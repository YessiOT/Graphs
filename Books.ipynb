{
 "cells": [
  {
   "cell_type": "markdown",
   "id": "1302bb77-ee2b-419e-ac86-3492e3699f65",
   "metadata": {},
   "source": [
    "# Creation and visualization of a graph of books and readers using networkx and pyvis"
   ]
  },
  {
   "cell_type": "markdown",
   "id": "60504b4e-47a9-44e6-b3c1-8691c997e173",
   "metadata": {},
   "source": [
    "## Part 1: Networkx creation \n",
    "\n",
    "**There will be two kind of nodes: Books and readers. Edges will connect readers with books They rated**"
   ]
  },
  {
   "cell_type": "code",
   "execution_count": 2,
   "id": "43e226c6-69ae-4185-90e2-12a390d6e513",
   "metadata": {},
   "outputs": [],
   "source": [
    "import pandas as pd\n",
    "import numpy as np\n",
    "import networkx as nx\n",
    "import matplotlib.pyplot as plt\n",
    "from pyvis.network import Network\n",
    "import random\n",
    "\n",
    "import warnings\n",
    "warnings.filterwarnings(\"ignore\")"
   ]
  },
  {
   "cell_type": "markdown",
   "id": "69eabcf9-7183-4b03-a474-5a1e9bb28f10",
   "metadata": {},
   "source": [
    "### Checking the data\n",
    "\n",
    "The data in 3 csv files have the following information:\n",
    "\n",
    "* Users --> Id,Age, Location\n",
    "* Books --> ISBNN, Title, author, year, publisher\n",
    "* Reviews --> Review in a 0-5 scale"
   ]
  },
  {
   "cell_type": "code",
   "execution_count": 3,
   "id": "699ebf68-b066-4cf5-8205-86e9f736169e",
   "metadata": {},
   "outputs": [],
   "source": [
    "users=pd.read_csv(\"Users.csv\")\n",
    "ratings=pd.read_csv(\"Ratings.csv\")\n",
    "books=pd.read_csv(\"Books.csv\",usecols=[0,1,2,3,4])"
   ]
  },
  {
   "cell_type": "markdown",
   "id": "54d142c1-903b-448e-a8f1-b8fd3df1ad9c",
   "metadata": {},
   "source": [
    "The ratings dataFrame has the necessary information to create the links between nodes (reader)--\\[rate\\]-->(book)"
   ]
  },
  {
   "cell_type": "code",
   "execution_count": null,
   "id": "9f231aeb-0a93-46e8-a223-4a3680875057",
   "metadata": {},
   "outputs": [],
   "source": [
    "ratings.info()"
   ]
  },
  {
   "cell_type": "code",
   "execution_count": null,
   "id": "3bdf5f3d-1ab0-4242-b350-e0b4e6a44a6b",
   "metadata": {},
   "outputs": [],
   "source": [
    "users.info()"
   ]
  },
  {
   "cell_type": "code",
   "execution_count": null,
   "id": "c538ffe3-daee-4991-9bdd-f7c036876b9d",
   "metadata": {},
   "outputs": [],
   "source": [
    "books.info()"
   ]
  },
  {
   "cell_type": "code",
   "execution_count": 4,
   "id": "af099b4e-1d58-4fb5-8a09-d026a6597fbe",
   "metadata": {},
   "outputs": [
    {
     "name": "stdout",
     "output_type": "stream",
     "text": [
      "Number of readers: 105283\n",
      "Number of books: 340556\n"
     ]
    }
   ],
   "source": [
    "print(f\"Number of readers: {len(ratings['User-ID'].unique())}\")\n",
    "print(f\"Number of books: {len(ratings['ISBN'].unique())}\")"
   ]
  },
  {
   "cell_type": "markdown",
   "id": "94c5b5e8-5d9a-438e-95a8-b08a9b464e05",
   "metadata": {},
   "source": [
    "There are missing information of several books in ratings (books dataFrame only has information of 271360 books). Let's use only books with information in books dataFrame. Also, We are going to use only information of readers in ratings."
   ]
  },
  {
   "cell_type": "code",
   "execution_count": 5,
   "id": "f51201fd-32b7-4897-8b6e-1be66e64e496",
   "metadata": {},
   "outputs": [],
   "source": [
    "ratings=ratings[ratings['ISBN'].isin(list(books['ISBN'].unique()))]\n",
    "users=pd.merge(pd.DataFrame(ratings['User-ID'].sort_values().unique(),columns=['User-ID']),users,how='inner')\n",
    "books=pd.merge(pd.DataFrame(ratings['ISBN'].sort_values().unique(),columns=['ISBN']),books,how='inner')"
   ]
  },
  {
   "cell_type": "markdown",
   "id": "cae17013-98dd-4668-93a6-72bfcaef3d31",
   "metadata": {},
   "source": [
    "Cleanning the info"
   ]
  },
  {
   "cell_type": "code",
   "execution_count": 6,
   "id": "0a53af12-a2e0-4561-ba37-5d633324a792",
   "metadata": {},
   "outputs": [],
   "source": [
    "ratings['User-ID']=ratings['User-ID'].astype(str)\n",
    "users['User-ID']=users['User-ID'].astype(str)\n",
    "users['City']=users['Location'].str.split(',').str[0]\n",
    "users['Country']=users['Location'].str.split(',').str[2]\n",
    "users['Age']=users['Age'].fillna('Unknown')\n",
    "books['Book-Author']=books['Book-Author'].fillna('Unknown')"
   ]
  },
  {
   "cell_type": "markdown",
   "id": "4db85d68-098e-4e96-a993-3485bb6353f3",
   "metadata": {},
   "source": [
    "### Creating the network\n",
    "**The network will be created with networkx from the pandas dataFrame ratings**\n",
    "\n",
    "The G graph is a directed graph while H is an undirected graph. We defined both because for a correct visualization we will use the directed one and, to calculate some important features of our network we will use networkx functions only defined for uniderected graphs."
   ]
  },
  {
   "cell_type": "code",
   "execution_count": 7,
   "id": "30649341-36a9-43db-a5aa-8aecad955d47",
   "metadata": {},
   "outputs": [],
   "source": [
    "G=nx.from_pandas_edgelist(ratings,source='User-ID',target='ISBN',edge_attr=['Book-Rating'],create_using=nx.DiGraph) #directed graph\n",
    "H=nx.from_pandas_edgelist(ratings,source='User-ID',target='ISBN',edge_attr=['Book-Rating']) #simple graph"
   ]
  },
  {
   "cell_type": "markdown",
   "id": "31046c39-bcb1-4213-8929-450e847a13b4",
   "metadata": {},
   "source": [
    "**Adding node attributes**\n",
    "\n",
    "Let's add some attributes to the nodes of G"
   ]
  },
  {
   "cell_type": "code",
   "execution_count": 8,
   "id": "961b0c86-5cd7-48b4-9da5-af659ea3baab",
   "metadata": {},
   "outputs": [],
   "source": [
    "nx.set_node_attributes(G,dict(zip(books['ISBN'],books['Book-Title'])), \"Book-Title\") \n",
    "nx.set_node_attributes(G,dict(zip(users['User-ID'],users['Country'])), \"Country\") "
   ]
  },
  {
   "cell_type": "code",
   "execution_count": null,
   "id": "cc5a75fb-2dde-4209-a120-c5dfb3d29bee",
   "metadata": {},
   "outputs": [],
   "source": [
    "#To check the new added attributes\n",
    "#G.nodes(data=True)"
   ]
  },
  {
   "cell_type": "markdown",
   "id": "af7de0c1-a156-4d75-a815-02a855485bdd",
   "metadata": {},
   "source": [
    "**Some information of our network**"
   ]
  },
  {
   "cell_type": "code",
   "execution_count": 9,
   "id": "5f7f48b7-0abf-45d8-8317-02c7d98051c4",
   "metadata": {},
   "outputs": [
    {
     "name": "stdout",
     "output_type": "stream",
     "text": [
      "Graph with 362257 nodes and 1031136 edges\n",
      "DiGraph with 362257 nodes and 1031136 edges\n"
     ]
    }
   ],
   "source": [
    "print(H)\n",
    "print(G) #It's the same as G"
   ]
  },
  {
   "cell_type": "code",
   "execution_count": 10,
   "id": "663a4ce8-7ba0-48d3-9a5f-f2f19bcdbea4",
   "metadata": {},
   "outputs": [
    {
     "name": "stdout",
     "output_type": "stream",
     "text": [
      "Number of connected components: 6117\n",
      "Nodes in largest connected component: 348278\n"
     ]
    }
   ],
   "source": [
    "print(f\"Number of connected components: {nx.number_connected_components(H)}\")\n",
    "print(f\"Nodes in largest connected component: {len(max(nx.connected_components(H), key=len))}\")"
   ]
  },
  {
   "cell_type": "markdown",
   "id": "2440d91c-5c5e-4fc5-a56a-4ec07fdb1933",
   "metadata": {},
   "source": [
    "1. Number of readers and books"
   ]
  },
  {
   "cell_type": "code",
   "execution_count": 11,
   "id": "8cb64eaf-3635-4b4d-b919-6c67a4130821",
   "metadata": {},
   "outputs": [
    {
     "name": "stdout",
     "output_type": "stream",
     "text": [
      "Number of readers: 92106\n",
      "Number of books: 270151\n"
     ]
    }
   ],
   "source": [
    "print(f\"Number of readers: {len(nx.get_node_attributes(G,'Country').keys())}\")\n",
    "print(f\"Number of books: {len(nx.get_node_attributes(G,'Book-Title').keys())}\")"
   ]
  },
  {
   "cell_type": "markdown",
   "id": "c54cc877-d635-404b-b4a6-eb94d196694a",
   "metadata": {},
   "source": [
    "2. Top five readers with more rating books"
   ]
  },
  {
   "cell_type": "code",
   "execution_count": 12,
   "id": "7275275a-a514-420b-b160-46db0bd8fc98",
   "metadata": {},
   "outputs": [],
   "source": [
    "out_degree= sorted(G.out_degree(), key=lambda item: item[1], reverse=True)"
   ]
  },
  {
   "cell_type": "code",
   "execution_count": 13,
   "id": "0b1464fc-b5b5-45cf-a613-7b5d3a85fe50",
   "metadata": {},
   "outputs": [
    {
     "data": {
      "text/plain": [
       "[('11676', 11144),\n",
       " ('198711', 6456),\n",
       " ('153662', 5814),\n",
       " ('98391', 5779),\n",
       " ('35859', 5646)]"
      ]
     },
     "execution_count": 13,
     "metadata": {},
     "output_type": "execute_result"
    }
   ],
   "source": [
    "out_degree[0:5] #(User-ID,rated books)"
   ]
  },
  {
   "cell_type": "code",
   "execution_count": 14,
   "id": "9e415967-525d-4565-a1a3-33a9a0441288",
   "metadata": {},
   "outputs": [
    {
     "data": {
      "text/html": [
       "<div>\n",
       "<style scoped>\n",
       "    .dataframe tbody tr th:only-of-type {\n",
       "        vertical-align: middle;\n",
       "    }\n",
       "\n",
       "    .dataframe tbody tr th {\n",
       "        vertical-align: top;\n",
       "    }\n",
       "\n",
       "    .dataframe thead th {\n",
       "        text-align: right;\n",
       "    }\n",
       "</style>\n",
       "<table border=\"1\" class=\"dataframe\">\n",
       "  <thead>\n",
       "    <tr style=\"text-align: right;\">\n",
       "      <th></th>\n",
       "      <th>User-ID</th>\n",
       "      <th>Location</th>\n",
       "      <th>Age</th>\n",
       "      <th>City</th>\n",
       "      <th>Country</th>\n",
       "    </tr>\n",
       "  </thead>\n",
       "  <tbody>\n",
       "    <tr>\n",
       "      <th>3629</th>\n",
       "      <td>11676</td>\n",
       "      <td>n/a, n/a, n/a</td>\n",
       "      <td>Unknown</td>\n",
       "      <td>n/a</td>\n",
       "      <td>n/a</td>\n",
       "    </tr>\n",
       "    <tr>\n",
       "      <th>11848</th>\n",
       "      <td>35859</td>\n",
       "      <td>duluth, minnesota, usa</td>\n",
       "      <td>Unknown</td>\n",
       "      <td>duluth</td>\n",
       "      <td>usa</td>\n",
       "    </tr>\n",
       "    <tr>\n",
       "      <th>32581</th>\n",
       "      <td>98391</td>\n",
       "      <td>morrow, georgia, usa</td>\n",
       "      <td>52.0</td>\n",
       "      <td>morrow</td>\n",
       "      <td>usa</td>\n",
       "    </tr>\n",
       "    <tr>\n",
       "      <th>50848</th>\n",
       "      <td>153662</td>\n",
       "      <td>ft. stewart, georgia, usa</td>\n",
       "      <td>44.0</td>\n",
       "      <td>ft. stewart</td>\n",
       "      <td>usa</td>\n",
       "    </tr>\n",
       "    <tr>\n",
       "      <th>65332</th>\n",
       "      <td>198711</td>\n",
       "      <td>little canada, minnesota, usa</td>\n",
       "      <td>62.0</td>\n",
       "      <td>little canada</td>\n",
       "      <td>usa</td>\n",
       "    </tr>\n",
       "  </tbody>\n",
       "</table>\n",
       "</div>"
      ],
      "text/plain": [
       "      User-ID                       Location      Age           City Country\n",
       "3629    11676                  n/a, n/a, n/a  Unknown            n/a     n/a\n",
       "11848   35859         duluth, minnesota, usa  Unknown         duluth     usa\n",
       "32581   98391           morrow, georgia, usa     52.0         morrow     usa\n",
       "50848  153662      ft. stewart, georgia, usa     44.0    ft. stewart     usa\n",
       "65332  198711  little canada, minnesota, usa     62.0  little canada     usa"
      ]
     },
     "execution_count": 14,
     "metadata": {},
     "output_type": "execute_result"
    }
   ],
   "source": [
    "users[users['User-ID'].isin([i[0] for i in out_degree[0:5]])]"
   ]
  },
  {
   "cell_type": "markdown",
   "id": "2f25f33a-f631-4665-9901-3d12c52d0e6d",
   "metadata": {},
   "source": [
    "3. Top five books with more ratings "
   ]
  },
  {
   "cell_type": "code",
   "execution_count": 15,
   "id": "93225ea1-3b40-4382-b9f7-d260ed57fa19",
   "metadata": {},
   "outputs": [],
   "source": [
    "in_degree= sorted(G.in_degree(), key=lambda item: item[1], reverse=True)"
   ]
  },
  {
   "cell_type": "code",
   "execution_count": 16,
   "id": "da5b1ef8-d4c9-4ed7-9445-cf05dce163f5",
   "metadata": {},
   "outputs": [
    {
     "data": {
      "text/plain": [
       "[('0971880107', 2502),\n",
       " ('0316666343', 1295),\n",
       " ('0385504209', 883),\n",
       " ('0060928336', 732),\n",
       " ('0312195516', 723)]"
      ]
     },
     "execution_count": 16,
     "metadata": {},
     "output_type": "execute_result"
    }
   ],
   "source": [
    "in_degree[0:5]"
   ]
  },
  {
   "cell_type": "code",
   "execution_count": 17,
   "id": "140d64a6-c179-4007-95d9-8de4c8dff30d",
   "metadata": {},
   "outputs": [
    {
     "data": {
      "text/html": [
       "<div>\n",
       "<style scoped>\n",
       "    .dataframe tbody tr th:only-of-type {\n",
       "        vertical-align: middle;\n",
       "    }\n",
       "\n",
       "    .dataframe tbody tr th {\n",
       "        vertical-align: top;\n",
       "    }\n",
       "\n",
       "    .dataframe thead th {\n",
       "        text-align: right;\n",
       "    }\n",
       "</style>\n",
       "<table border=\"1\" class=\"dataframe\">\n",
       "  <thead>\n",
       "    <tr style=\"text-align: right;\">\n",
       "      <th></th>\n",
       "      <th>ISBN</th>\n",
       "      <th>Book-Title</th>\n",
       "      <th>Book-Author</th>\n",
       "      <th>Year-Of-Publication</th>\n",
       "      <th>Publisher</th>\n",
       "    </tr>\n",
       "  </thead>\n",
       "  <tbody>\n",
       "    <tr>\n",
       "      <th>7344</th>\n",
       "      <td>0060928336</td>\n",
       "      <td>Divine Secrets of the Ya-Ya Sisterhood: A Novel</td>\n",
       "      <td>Rebecca Wells</td>\n",
       "      <td>1997</td>\n",
       "      <td>Perennial</td>\n",
       "    </tr>\n",
       "    <tr>\n",
       "      <th>32370</th>\n",
       "      <td>0312195516</td>\n",
       "      <td>The Red Tent (Bestselling Backlist)</td>\n",
       "      <td>Anita Diamant</td>\n",
       "      <td>1998</td>\n",
       "      <td>Picador USA</td>\n",
       "    </tr>\n",
       "    <tr>\n",
       "      <th>38570</th>\n",
       "      <td>0316666343</td>\n",
       "      <td>The Lovely Bones: A Novel</td>\n",
       "      <td>Alice Sebold</td>\n",
       "      <td>2002</td>\n",
       "      <td>Little, Brown</td>\n",
       "    </tr>\n",
       "    <tr>\n",
       "      <th>70798</th>\n",
       "      <td>0385504209</td>\n",
       "      <td>The Da Vinci Code</td>\n",
       "      <td>Dan Brown</td>\n",
       "      <td>2003</td>\n",
       "      <td>Doubleday</td>\n",
       "    </tr>\n",
       "    <tr>\n",
       "      <th>215952</th>\n",
       "      <td>0971880107</td>\n",
       "      <td>Wild Animus</td>\n",
       "      <td>Rich Shapero</td>\n",
       "      <td>2004</td>\n",
       "      <td>Too Far</td>\n",
       "    </tr>\n",
       "  </tbody>\n",
       "</table>\n",
       "</div>"
      ],
      "text/plain": [
       "              ISBN                                       Book-Title  \\\n",
       "7344    0060928336  Divine Secrets of the Ya-Ya Sisterhood: A Novel   \n",
       "32370   0312195516              The Red Tent (Bestselling Backlist)   \n",
       "38570   0316666343                        The Lovely Bones: A Novel   \n",
       "70798   0385504209                                The Da Vinci Code   \n",
       "215952  0971880107                                      Wild Animus   \n",
       "\n",
       "          Book-Author Year-Of-Publication      Publisher  \n",
       "7344    Rebecca Wells                1997      Perennial  \n",
       "32370   Anita Diamant                1998    Picador USA  \n",
       "38570    Alice Sebold                2002  Little, Brown  \n",
       "70798       Dan Brown                2003      Doubleday  \n",
       "215952   Rich Shapero                2004        Too Far  "
      ]
     },
     "execution_count": 17,
     "metadata": {},
     "output_type": "execute_result"
    }
   ],
   "source": [
    "books[books['ISBN'].isin([i[0] for i in in_degree[0:5]])]"
   ]
  },
  {
   "cell_type": "markdown",
   "id": "d911deb0-d0ea-4e10-aa66-dd581b2f7c8e",
   "metadata": {},
   "source": [
    "## Part 2: Pyvis Visualization"
   ]
  },
  {
   "cell_type": "markdown",
   "id": "72fcfe06-7aa6-427e-937b-b3366d5c28e0",
   "metadata": {},
   "source": [
    "### Attributes for visualization\n",
    "\n",
    "Attributes in nodes and edges can be used to show important information in the visualization of our graph. In *pyvis* attributes with specific names are used to customize the visualization of the graph. Let's create attributes for the visualization."
   ]
  },
  {
   "cell_type": "markdown",
   "id": "c7b8aad3-9f98-4c61-83b5-cee7e53cf326",
   "metadata": {},
   "source": [
    "**Node attributes**"
   ]
  },
  {
   "cell_type": "markdown",
   "id": "3a537c93-fdf4-4e63-b3ed-7f4921c54c41",
   "metadata": {},
   "source": [
    "*icon*\n",
    "\n",
    "For icons to work, the \"shape\" attribute needs be set as \"icon\""
   ]
  },
  {
   "cell_type": "code",
   "execution_count": 38,
   "id": "463f1caa-36c4-45ac-ada1-f66e0a9ea151",
   "metadata": {},
   "outputs": [],
   "source": [
    "country_attributes = nx.get_node_attributes(G, 'Country')\n",
    "node_icon={(key):{'face': 'FontAwesome',\"code\": \"\\uf007\",'color':'blue'} if country_attributes.get(key) \n",
    "           else {'face':'FontAwesome','code':'\\uf02d','color':'brown'} \n",
    "           for key in G.nodes()}\n",
    "nx.set_node_attributes(G,node_icon, 'icon')\n",
    "nx.set_node_attributes(G,'icon', 'shape')"
   ]
  },
  {
   "cell_type": "markdown",
   "id": "755067fa-a59a-498e-95db-7f6be9e8a42a",
   "metadata": {},
   "source": [
    "If we don't want an icon, con just put the deafult bullet for a node and change color and size\n",
    "*color* "
   ]
  },
  {
   "cell_type": "code",
   "execution_count": null,
   "id": "e2552487-c579-4ec1-99b6-48d9dcbbcdc2",
   "metadata": {},
   "outputs": [],
   "source": [
    "#node_colors={(key): ('gray' if country_attributes.get(key) is not None else 'brown') for key in G.nodes()}\n",
    "#nx.set_node_attributes(G,node_colors, \"color\")"
   ]
  },
  {
   "cell_type": "markdown",
   "id": "164dcb7d-f412-40d3-91ad-648841197671",
   "metadata": {},
   "source": [
    "*size*"
   ]
  },
  {
   "cell_type": "code",
   "execution_count": 32,
   "id": "222981a1-c95b-494e-b00f-f003c6944c12",
   "metadata": {},
   "outputs": [],
   "source": [
    "#node_size={(key): (round(np.log(item+10)*10,2)) for key,item in out_degree}\n",
    "#nx.set_node_attributes(G,node_size, \"size\")"
   ]
  },
  {
   "cell_type": "markdown",
   "id": "7e5a2e69-13b5-4ed1-b705-a873f8ec45c6",
   "metadata": {},
   "source": [
    "*title* (will be the labeling)"
   ]
  },
  {
   "cell_type": "code",
   "execution_count": 19,
   "id": "6e9a8f17-772a-4571-97cf-3cdd95b2e723",
   "metadata": {},
   "outputs": [],
   "source": [
    "books['info']=books.apply(lambda x: 'Title: '+ x['Book-Title']+'\\n'+'Author: '+x['Book-Author']+'\\n'+'Year: '+str(x['Year-Of-Publication']),axis=1)\n",
    "users['info']=users.apply(lambda x: 'ID: '+x['User-ID']+'\\n'+'Age: '+str(x['Age'])+'\\n'+'City: ' +x['City'],axis=1)"
   ]
  },
  {
   "cell_type": "code",
   "execution_count": 20,
   "id": "173310f0-e6bc-40e7-97f8-cc8d5070d946",
   "metadata": {},
   "outputs": [],
   "source": [
    "nx.set_node_attributes(G,dict(zip(books['ISBN'],books['info'])), \"title\")\n",
    "nx.set_node_attributes(G,dict(zip(users['User-ID'],users['info'])), \"title\")"
   ]
  },
  {
   "cell_type": "markdown",
   "id": "c5011cf5-9165-4174-a0fa-df11ac8d4153",
   "metadata": {},
   "source": [
    "**Edges attributes**"
   ]
  },
  {
   "cell_type": "markdown",
   "id": "b1eacdfb-ea9f-46ae-9c4a-d3807843f477",
   "metadata": {},
   "source": [
    "*color*"
   ]
  },
  {
   "cell_type": "code",
   "execution_count": 21,
   "id": "5622be16-ea3f-42a6-b25c-f85b5307ac42",
   "metadata": {},
   "outputs": [],
   "source": [
    "edge_color_map={10:'red',9:'red',8:'orange',7:'orange',6:'yellow',5:'yellow',4:'green',3:'green',2:'blue',1:'red',0:'gray'}\n",
    "ratings['color']=ratings['Book-Rating'].map(edge_color_map)"
   ]
  },
  {
   "cell_type": "code",
   "execution_count": 22,
   "id": "5da88501-b432-4acd-abf5-bdf838c531e3",
   "metadata": {},
   "outputs": [],
   "source": [
    "#{key: {'color':group['color']} for key, group in ratings.groupby(['User-ID', 'ISBN'])}\n",
    "edge_colors={(row['User-ID'], row['ISBN']): {'color':row['color']} for _, row in ratings.iterrows()}\n",
    "nx.set_edge_attributes(G,edge_colors)"
   ]
  },
  {
   "cell_type": "markdown",
   "id": "f7fa22a9-127b-46d3-b18f-0166e50dc2c8",
   "metadata": {},
   "source": [
    "*title*"
   ]
  },
  {
   "cell_type": "code",
   "execution_count": 23,
   "id": "8a921bc8-4cc0-418f-8392-e814012b6df9",
   "metadata": {},
   "outputs": [],
   "source": [
    "for u, v, data in G.edges(data=True):\n",
    "    data['title'] = data['Book-Rating']"
   ]
  },
  {
   "cell_type": "markdown",
   "id": "056024f2-f7c6-4a4d-8f9d-43fbe9b2b976",
   "metadata": {},
   "source": [
    "**For purposes of visualization We are going to plot just small samples of the complete network**"
   ]
  },
  {
   "cell_type": "code",
   "execution_count": 49,
   "id": "69a1ea6f-2181-4bab-8c66-f05e7894ce50",
   "metadata": {},
   "outputs": [],
   "source": [
    "components=sorted(nx.connected_components(H), key=len, reverse=True)\n",
    "g=nx.subgraph(G,components[4]) ##a subgraph could be a connected component"
   ]
  },
  {
   "cell_type": "code",
   "execution_count": 40,
   "id": "efb5149e-f02b-4abd-b07a-6fcf1d7c8aac",
   "metadata": {},
   "outputs": [],
   "source": [
    "nodes = list(nx.subgraph(G,components[0]))\n",
    "num_nodes_to_sample = 1000 # Example: select 100 random nodes of number 1 component\n",
    "random_nodes = random.sample(nodes, num_nodes_to_sample)\n",
    "h=nx.subgraph(G,random_nodes) #random subgraph"
   ]
  },
  {
   "cell_type": "markdown",
   "id": "085e1ec1-9f86-44f5-b7da-51bb859e880e",
   "metadata": {},
   "source": [
    "**Function to create pyvis graph**"
   ]
  },
  {
   "cell_type": "code",
   "execution_count": 57,
   "id": "3c95dd43-0841-4b7b-a693-1231c7631f9e",
   "metadata": {},
   "outputs": [],
   "source": [
    "def pyvis_vis(networkx_graph):\n",
    "    \n",
    "    my_network = Network(height='400px',directed=True,notebook=True,font_color='#00000000')\n",
    "    my_network.from_nx(networkx_graph)\n",
    "    \n",
    "    return my_network.show('graph_visualization.html')"
   ]
  },
  {
   "cell_type": "code",
   "execution_count": 58,
   "id": "111e0d02-6454-43f8-8085-c832a10e5843",
   "metadata": {},
   "outputs": [
    {
     "name": "stdout",
     "output_type": "stream",
     "text": [
      "Warning: When  cdn_resources is 'local' jupyter notebook has issues displaying graphics on chrome/safari. Use cdn_resources='in_line' or cdn_resources='remote' if you have issues viewing graphics in a notebook.\n",
      "graph_visualization.html\n"
     ]
    },
    {
     "data": {
      "text/html": [
       "\n",
       "        <iframe\n",
       "            width=\"100%\"\n",
       "            height=\"400px\"\n",
       "            src=\"graph_visualization.html\"\n",
       "            frameborder=\"0\"\n",
       "            allowfullscreen\n",
       "            \n",
       "        ></iframe>\n",
       "        "
      ],
      "text/plain": [
       "<IPython.lib.display.IFrame at 0x7fe538626140>"
      ]
     },
     "execution_count": 58,
     "metadata": {},
     "output_type": "execute_result"
    }
   ],
   "source": [
    "pyvis_vis(g)"
   ]
  },
  {
   "cell_type": "code",
   "execution_count": null,
   "id": "cbd170d4-c294-4eb4-b2b6-eb45fec24b8f",
   "metadata": {},
   "outputs": [],
   "source": []
  }
 ],
 "metadata": {
  "kernelspec": {
   "display_name": "Python 3 (ipykernel)",
   "language": "python",
   "name": "python3"
  },
  "language_info": {
   "codemirror_mode": {
    "name": "ipython",
    "version": 3
   },
   "file_extension": ".py",
   "mimetype": "text/x-python",
   "name": "python",
   "nbconvert_exporter": "python",
   "pygments_lexer": "ipython3",
   "version": "3.10.4"
  }
 },
 "nbformat": 4,
 "nbformat_minor": 5
}
