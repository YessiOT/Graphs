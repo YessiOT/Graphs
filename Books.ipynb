{
 "cells": [
  {
   "cell_type": "markdown",
   "id": "1302bb77-ee2b-419e-ac86-3492e3699f65",
   "metadata": {},
   "source": [
    "# Creation and visualization of a graph of books and readers using networkx and pyvis"
   ]
  },
  {
   "cell_type": "markdown",
   "id": "60504b4e-47a9-44e6-b3c1-8691c997e173",
   "metadata": {},
   "source": [
    "## Part 1: Networkx creation \n",
    "\n",
    "**There will be two kind of nodes: Books and readers. Edges will connect readers with rating books**"
   ]
  },
  {
   "cell_type": "code",
   "execution_count": 2,
   "id": "43e226c6-69ae-4185-90e2-12a390d6e513",
   "metadata": {},
   "outputs": [],
   "source": [
    "import pandas as pd\n",
    "import networkx as nx\n",
    "import matplotlib.pyplot as plt\n",
    "from pyvis.network import Network\n",
    "import random\n",
    "\n",
    "import warnings\n",
    "warnings.filterwarnings(\"ignore\")"
   ]
  },
  {
   "cell_type": "markdown",
   "id": "69eabcf9-7183-4b03-a474-5a1e9bb28f10",
   "metadata": {},
   "source": [
    "### Checking the data\n",
    "\n",
    "The data in 3 csv files have the following information:\n",
    "\n",
    "* Users --> Id,Age, Location\n",
    "* Books --> ISBNN, Title, author, year, publisher\n",
    "* Reviews --> Review in a 0-5 scale"
   ]
  },
  {
   "cell_type": "code",
   "execution_count": 3,
   "id": "699ebf68-b066-4cf5-8205-86e9f736169e",
   "metadata": {},
   "outputs": [],
   "source": [
    "users=pd.read_csv(\"Users.csv\")\n",
    "ratings=pd.read_csv(\"Ratings.csv\")\n",
    "books=pd.read_csv(\"Books.csv\",usecols=[0,1,2,3,4])"
   ]
  },
  {
   "cell_type": "markdown",
   "id": "54d142c1-903b-448e-a8f1-b8fd3df1ad9c",
   "metadata": {},
   "source": [
    "The ratings dataFrame has the necessary information to create the links between nodes (reader)--\\[rate\\]-->(book)"
   ]
  },
  {
   "cell_type": "code",
   "execution_count": 4,
   "id": "9f231aeb-0a93-46e8-a223-4a3680875057",
   "metadata": {},
   "outputs": [
    {
     "name": "stdout",
     "output_type": "stream",
     "text": [
      "<class 'pandas.core.frame.DataFrame'>\n",
      "RangeIndex: 1149780 entries, 0 to 1149779\n",
      "Data columns (total 3 columns):\n",
      " #   Column       Non-Null Count    Dtype \n",
      "---  ------       --------------    ----- \n",
      " 0   User-ID      1149780 non-null  int64 \n",
      " 1   ISBN         1149780 non-null  object\n",
      " 2   Book-Rating  1149780 non-null  int64 \n",
      "dtypes: int64(2), object(1)\n",
      "memory usage: 26.3+ MB\n"
     ]
    }
   ],
   "source": [
    "ratings.info()"
   ]
  },
  {
   "cell_type": "code",
   "execution_count": 5,
   "id": "3bdf5f3d-1ab0-4242-b350-e0b4e6a44a6b",
   "metadata": {},
   "outputs": [
    {
     "name": "stdout",
     "output_type": "stream",
     "text": [
      "<class 'pandas.core.frame.DataFrame'>\n",
      "RangeIndex: 278858 entries, 0 to 278857\n",
      "Data columns (total 3 columns):\n",
      " #   Column    Non-Null Count   Dtype  \n",
      "---  ------    --------------   -----  \n",
      " 0   User-ID   278858 non-null  int64  \n",
      " 1   Location  278858 non-null  object \n",
      " 2   Age       168096 non-null  float64\n",
      "dtypes: float64(1), int64(1), object(1)\n",
      "memory usage: 6.4+ MB\n"
     ]
    }
   ],
   "source": [
    "users.info()"
   ]
  },
  {
   "cell_type": "code",
   "execution_count": 6,
   "id": "c538ffe3-daee-4991-9bdd-f7c036876b9d",
   "metadata": {},
   "outputs": [
    {
     "name": "stdout",
     "output_type": "stream",
     "text": [
      "<class 'pandas.core.frame.DataFrame'>\n",
      "RangeIndex: 271360 entries, 0 to 271359\n",
      "Data columns (total 5 columns):\n",
      " #   Column               Non-Null Count   Dtype \n",
      "---  ------               --------------   ----- \n",
      " 0   ISBN                 271360 non-null  object\n",
      " 1   Book-Title           271360 non-null  object\n",
      " 2   Book-Author          271358 non-null  object\n",
      " 3   Year-Of-Publication  271360 non-null  object\n",
      " 4   Publisher            271358 non-null  object\n",
      "dtypes: object(5)\n",
      "memory usage: 10.4+ MB\n"
     ]
    }
   ],
   "source": [
    "books.info()"
   ]
  },
  {
   "cell_type": "code",
   "execution_count": 7,
   "id": "af099b4e-1d58-4fb5-8a09-d026a6597fbe",
   "metadata": {},
   "outputs": [
    {
     "name": "stdout",
     "output_type": "stream",
     "text": [
      "Number of readers: 105283\n",
      "Number of books: 340556\n"
     ]
    }
   ],
   "source": [
    "print(f\"Number of readers: {len(ratings['User-ID'].unique())}\")\n",
    "print(f\"Number of books: {len(ratings['ISBN'].unique())}\")"
   ]
  },
  {
   "cell_type": "markdown",
   "id": "94c5b5e8-5d9a-438e-95a8-b08a9b464e05",
   "metadata": {},
   "source": [
    "There are missing information of several books in ratings (books dataFrame only has information of 271360 books). Let's use only books with information in books dataFrame. Also, We are going to use only information of readers in ratings."
   ]
  },
  {
   "cell_type": "code",
   "execution_count": 8,
   "id": "f51201fd-32b7-4897-8b6e-1be66e64e496",
   "metadata": {},
   "outputs": [],
   "source": [
    "ratings=ratings[ratings['ISBN'].isin(list(books['ISBN'].unique()))]"
   ]
  },
  {
   "cell_type": "code",
   "execution_count": 9,
   "id": "903fcf85-6367-4605-9e70-a0329f84f5d8",
   "metadata": {},
   "outputs": [],
   "source": [
    "users=pd.merge(pd.DataFrame(ratings['User-ID'].sort_values().unique(),columns=['User-ID']),users,how='inner')\n",
    "books=pd.merge(pd.DataFrame(ratings['ISBN'].sort_values().unique(),columns=['ISBN']),books,how='inner')"
   ]
  },
  {
   "cell_type": "markdown",
   "id": "cae17013-98dd-4668-93a6-72bfcaef3d31",
   "metadata": {},
   "source": [
    "Cleanning the info"
   ]
  },
  {
   "cell_type": "code",
   "execution_count": 10,
   "id": "0a53af12-a2e0-4561-ba37-5d633324a792",
   "metadata": {},
   "outputs": [],
   "source": [
    "ratings['User-ID']=ratings['User-ID'].astype(str)\n",
    "users['User-ID']=users['User-ID'].astype(str)\n",
    "users['City']=users['Location'].str.split(',').str[0]\n",
    "users['Country']=users['Location'].str.split(',').str[2]\n",
    "users['Age']=users['Age'].fillna('Unknown')"
   ]
  },
  {
   "cell_type": "code",
   "execution_count": 11,
   "id": "4affab1a-b3da-4a6b-9dea-fc299e5989c1",
   "metadata": {},
   "outputs": [
    {
     "data": {
      "text/html": [
       "<div>\n",
       "<style scoped>\n",
       "    .dataframe tbody tr th:only-of-type {\n",
       "        vertical-align: middle;\n",
       "    }\n",
       "\n",
       "    .dataframe tbody tr th {\n",
       "        vertical-align: top;\n",
       "    }\n",
       "\n",
       "    .dataframe thead th {\n",
       "        text-align: right;\n",
       "    }\n",
       "</style>\n",
       "<table border=\"1\" class=\"dataframe\">\n",
       "  <thead>\n",
       "    <tr style=\"text-align: right;\">\n",
       "      <th></th>\n",
       "      <th>User-ID</th>\n",
       "      <th>Location</th>\n",
       "      <th>Age</th>\n",
       "      <th>City</th>\n",
       "      <th>Country</th>\n",
       "    </tr>\n",
       "  </thead>\n",
       "  <tbody>\n",
       "    <tr>\n",
       "      <th>0</th>\n",
       "      <td>2</td>\n",
       "      <td>stockton, california, usa</td>\n",
       "      <td>18.0</td>\n",
       "      <td>stockton</td>\n",
       "      <td>usa</td>\n",
       "    </tr>\n",
       "    <tr>\n",
       "      <th>1</th>\n",
       "      <td>8</td>\n",
       "      <td>timmins, ontario, canada</td>\n",
       "      <td>Unknown</td>\n",
       "      <td>timmins</td>\n",
       "      <td>canada</td>\n",
       "    </tr>\n",
       "    <tr>\n",
       "      <th>2</th>\n",
       "      <td>9</td>\n",
       "      <td>germantown, tennessee, usa</td>\n",
       "      <td>Unknown</td>\n",
       "      <td>germantown</td>\n",
       "      <td>usa</td>\n",
       "    </tr>\n",
       "    <tr>\n",
       "      <th>3</th>\n",
       "      <td>10</td>\n",
       "      <td>albacete, wisconsin, spain</td>\n",
       "      <td>26.0</td>\n",
       "      <td>albacete</td>\n",
       "      <td>spain</td>\n",
       "    </tr>\n",
       "    <tr>\n",
       "      <th>4</th>\n",
       "      <td>12</td>\n",
       "      <td>fort bragg, california, usa</td>\n",
       "      <td>Unknown</td>\n",
       "      <td>fort bragg</td>\n",
       "      <td>usa</td>\n",
       "    </tr>\n",
       "  </tbody>\n",
       "</table>\n",
       "</div>"
      ],
      "text/plain": [
       "  User-ID                     Location      Age        City  Country\n",
       "0       2    stockton, california, usa     18.0    stockton      usa\n",
       "1       8     timmins, ontario, canada  Unknown     timmins   canada\n",
       "2       9   germantown, tennessee, usa  Unknown  germantown      usa\n",
       "3      10   albacete, wisconsin, spain     26.0    albacete    spain\n",
       "4      12  fort bragg, california, usa  Unknown  fort bragg      usa"
      ]
     },
     "execution_count": 11,
     "metadata": {},
     "output_type": "execute_result"
    }
   ],
   "source": [
    "users.head()"
   ]
  },
  {
   "cell_type": "markdown",
   "id": "4db85d68-098e-4e96-a993-3485bb6353f3",
   "metadata": {},
   "source": [
    "### Creating the network\n",
    "**The network will be created with networkx from the pandas dataFrame ratings**\n",
    "\n",
    "The G graph is a directed graph while H is an undirected graph. We defined both because for a correct visualization we will use the directed one and, to calculate some important features of our network we will use networkx functions only defined for uniderected graphs."
   ]
  },
  {
   "cell_type": "code",
   "execution_count": 12,
   "id": "30649341-36a9-43db-a5aa-8aecad955d47",
   "metadata": {},
   "outputs": [],
   "source": [
    "G=nx.from_pandas_edgelist(ratings,source='User-ID',target='ISBN',edge_attr=['Book-Rating'],create_using=nx.MultiDiGraph) #multidirected graph\n",
    "H=nx.from_pandas_edgelist(ratings,source='User-ID',target='ISBN',edge_attr=['Book-Rating']) #simple graph"
   ]
  },
  {
   "cell_type": "markdown",
   "id": "31046c39-bcb1-4213-8929-450e847a13b4",
   "metadata": {},
   "source": [
    "**Adding node attributes**\n",
    "\n",
    "Let's add some attributes to the nodes of G"
   ]
  },
  {
   "cell_type": "code",
   "execution_count": 13,
   "id": "961b0c86-5cd7-48b4-9da5-af659ea3baab",
   "metadata": {},
   "outputs": [],
   "source": [
    "nx.set_node_attributes(G,dict(zip(books['ISBN'],books['Book-Title'])), \"Book-Title\") \n",
    "nx.set_node_attributes(G,dict(zip(users['User-ID'],users['Country'])), \"Country\") "
   ]
  },
  {
   "cell_type": "code",
   "execution_count": null,
   "id": "cc5a75fb-2dde-4209-a120-c5dfb3d29bee",
   "metadata": {},
   "outputs": [],
   "source": [
    "#To check the new added attributes\n",
    "#G.nodes(data=True)"
   ]
  },
  {
   "cell_type": "markdown",
   "id": "af7de0c1-a156-4d75-a815-02a855485bdd",
   "metadata": {},
   "source": [
    "**Some information of our network**"
   ]
  },
  {
   "cell_type": "code",
   "execution_count": 14,
   "id": "5f7f48b7-0abf-45d8-8317-02c7d98051c4",
   "metadata": {},
   "outputs": [
    {
     "name": "stdout",
     "output_type": "stream",
     "text": [
      "Graph with 362257 nodes and 1031136 edges\n",
      "MultiDiGraph with 362257 nodes and 1031136 edges\n"
     ]
    }
   ],
   "source": [
    "print(H)\n",
    "print(G) #It's the same "
   ]
  },
  {
   "cell_type": "code",
   "execution_count": 15,
   "id": "663a4ce8-7ba0-48d3-9a5f-f2f19bcdbea4",
   "metadata": {},
   "outputs": [
    {
     "name": "stdout",
     "output_type": "stream",
     "text": [
      "Number of connected components: 6117\n",
      "Nodes in largest connected component: 348278\n"
     ]
    }
   ],
   "source": [
    "print(f\"Number of connected components: {nx.number_connected_components(H)}\")\n",
    "print(f\"Nodes in largest connected component: {len(max(nx.connected_components(H), key=len))}\")"
   ]
  },
  {
   "cell_type": "markdown",
   "id": "2440d91c-5c5e-4fc5-a56a-4ec07fdb1933",
   "metadata": {},
   "source": [
    "1. Number of readers and books"
   ]
  },
  {
   "cell_type": "code",
   "execution_count": 16,
   "id": "8cb64eaf-3635-4b4d-b919-6c67a4130821",
   "metadata": {},
   "outputs": [
    {
     "name": "stdout",
     "output_type": "stream",
     "text": [
      "Number of readers: 92106\n",
      "Number of books: 270151\n"
     ]
    }
   ],
   "source": [
    "print(f\"Number of readers: {len(nx.get_node_attributes(G,'Country').keys())}\")\n",
    "print(f\"Number of books: {len(nx.get_node_attributes(G,'Book-Title').keys())}\")"
   ]
  },
  {
   "cell_type": "markdown",
   "id": "c54cc877-d635-404b-b4a6-eb94d196694a",
   "metadata": {},
   "source": [
    "2. Top five readers with more rating books"
   ]
  },
  {
   "cell_type": "code",
   "execution_count": 17,
   "id": "7275275a-a514-420b-b160-46db0bd8fc98",
   "metadata": {},
   "outputs": [],
   "source": [
    "out_degree= sorted(G.out_degree(), key=lambda item: item[1], reverse=True)"
   ]
  },
  {
   "cell_type": "code",
   "execution_count": 18,
   "id": "0b1464fc-b5b5-45cf-a613-7b5d3a85fe50",
   "metadata": {},
   "outputs": [
    {
     "data": {
      "text/plain": [
       "[('11676', 11144),\n",
       " ('198711', 6456),\n",
       " ('153662', 5814),\n",
       " ('98391', 5779),\n",
       " ('35859', 5646)]"
      ]
     },
     "execution_count": 18,
     "metadata": {},
     "output_type": "execute_result"
    }
   ],
   "source": [
    "out_degree[0:5]"
   ]
  },
  {
   "cell_type": "code",
   "execution_count": 19,
   "id": "9e415967-525d-4565-a1a3-33a9a0441288",
   "metadata": {},
   "outputs": [
    {
     "data": {
      "text/html": [
       "<div>\n",
       "<style scoped>\n",
       "    .dataframe tbody tr th:only-of-type {\n",
       "        vertical-align: middle;\n",
       "    }\n",
       "\n",
       "    .dataframe tbody tr th {\n",
       "        vertical-align: top;\n",
       "    }\n",
       "\n",
       "    .dataframe thead th {\n",
       "        text-align: right;\n",
       "    }\n",
       "</style>\n",
       "<table border=\"1\" class=\"dataframe\">\n",
       "  <thead>\n",
       "    <tr style=\"text-align: right;\">\n",
       "      <th></th>\n",
       "      <th>User-ID</th>\n",
       "      <th>Location</th>\n",
       "      <th>Age</th>\n",
       "      <th>City</th>\n",
       "      <th>Country</th>\n",
       "    </tr>\n",
       "  </thead>\n",
       "  <tbody>\n",
       "    <tr>\n",
       "      <th>3629</th>\n",
       "      <td>11676</td>\n",
       "      <td>n/a, n/a, n/a</td>\n",
       "      <td>Unknown</td>\n",
       "      <td>n/a</td>\n",
       "      <td>n/a</td>\n",
       "    </tr>\n",
       "    <tr>\n",
       "      <th>11848</th>\n",
       "      <td>35859</td>\n",
       "      <td>duluth, minnesota, usa</td>\n",
       "      <td>Unknown</td>\n",
       "      <td>duluth</td>\n",
       "      <td>usa</td>\n",
       "    </tr>\n",
       "    <tr>\n",
       "      <th>32581</th>\n",
       "      <td>98391</td>\n",
       "      <td>morrow, georgia, usa</td>\n",
       "      <td>52.0</td>\n",
       "      <td>morrow</td>\n",
       "      <td>usa</td>\n",
       "    </tr>\n",
       "    <tr>\n",
       "      <th>50848</th>\n",
       "      <td>153662</td>\n",
       "      <td>ft. stewart, georgia, usa</td>\n",
       "      <td>44.0</td>\n",
       "      <td>ft. stewart</td>\n",
       "      <td>usa</td>\n",
       "    </tr>\n",
       "    <tr>\n",
       "      <th>65332</th>\n",
       "      <td>198711</td>\n",
       "      <td>little canada, minnesota, usa</td>\n",
       "      <td>62.0</td>\n",
       "      <td>little canada</td>\n",
       "      <td>usa</td>\n",
       "    </tr>\n",
       "  </tbody>\n",
       "</table>\n",
       "</div>"
      ],
      "text/plain": [
       "      User-ID                       Location      Age           City Country\n",
       "3629    11676                  n/a, n/a, n/a  Unknown            n/a     n/a\n",
       "11848   35859         duluth, minnesota, usa  Unknown         duluth     usa\n",
       "32581   98391           morrow, georgia, usa     52.0         morrow     usa\n",
       "50848  153662      ft. stewart, georgia, usa     44.0    ft. stewart     usa\n",
       "65332  198711  little canada, minnesota, usa     62.0  little canada     usa"
      ]
     },
     "execution_count": 19,
     "metadata": {},
     "output_type": "execute_result"
    }
   ],
   "source": [
    "users[users['User-ID'].isin([i[0] for i in out_degree[0:5]])]"
   ]
  },
  {
   "cell_type": "markdown",
   "id": "2f25f33a-f631-4665-9901-3d12c52d0e6d",
   "metadata": {},
   "source": [
    "3. Top five books with more ratings "
   ]
  },
  {
   "cell_type": "code",
   "execution_count": 20,
   "id": "93225ea1-3b40-4382-b9f7-d260ed57fa19",
   "metadata": {},
   "outputs": [],
   "source": [
    "in_degree= sorted(G.in_degree(), key=lambda item: item[1], reverse=True)"
   ]
  },
  {
   "cell_type": "code",
   "execution_count": 21,
   "id": "da5b1ef8-d4c9-4ed7-9445-cf05dce163f5",
   "metadata": {},
   "outputs": [
    {
     "data": {
      "text/plain": [
       "[('0971880107', 2502),\n",
       " ('0316666343', 1295),\n",
       " ('0385504209', 883),\n",
       " ('0060928336', 732),\n",
       " ('0312195516', 723)]"
      ]
     },
     "execution_count": 21,
     "metadata": {},
     "output_type": "execute_result"
    }
   ],
   "source": [
    "in_degree[0:5]"
   ]
  },
  {
   "cell_type": "code",
   "execution_count": 22,
   "id": "140d64a6-c179-4007-95d9-8de4c8dff30d",
   "metadata": {},
   "outputs": [
    {
     "data": {
      "text/html": [
       "<div>\n",
       "<style scoped>\n",
       "    .dataframe tbody tr th:only-of-type {\n",
       "        vertical-align: middle;\n",
       "    }\n",
       "\n",
       "    .dataframe tbody tr th {\n",
       "        vertical-align: top;\n",
       "    }\n",
       "\n",
       "    .dataframe thead th {\n",
       "        text-align: right;\n",
       "    }\n",
       "</style>\n",
       "<table border=\"1\" class=\"dataframe\">\n",
       "  <thead>\n",
       "    <tr style=\"text-align: right;\">\n",
       "      <th></th>\n",
       "      <th>ISBN</th>\n",
       "      <th>Book-Title</th>\n",
       "      <th>Book-Author</th>\n",
       "      <th>Year-Of-Publication</th>\n",
       "      <th>Publisher</th>\n",
       "    </tr>\n",
       "  </thead>\n",
       "  <tbody>\n",
       "    <tr>\n",
       "      <th>7344</th>\n",
       "      <td>0060928336</td>\n",
       "      <td>Divine Secrets of the Ya-Ya Sisterhood: A Novel</td>\n",
       "      <td>Rebecca Wells</td>\n",
       "      <td>1997</td>\n",
       "      <td>Perennial</td>\n",
       "    </tr>\n",
       "    <tr>\n",
       "      <th>32370</th>\n",
       "      <td>0312195516</td>\n",
       "      <td>The Red Tent (Bestselling Backlist)</td>\n",
       "      <td>Anita Diamant</td>\n",
       "      <td>1998</td>\n",
       "      <td>Picador USA</td>\n",
       "    </tr>\n",
       "    <tr>\n",
       "      <th>38570</th>\n",
       "      <td>0316666343</td>\n",
       "      <td>The Lovely Bones: A Novel</td>\n",
       "      <td>Alice Sebold</td>\n",
       "      <td>2002</td>\n",
       "      <td>Little, Brown</td>\n",
       "    </tr>\n",
       "    <tr>\n",
       "      <th>70798</th>\n",
       "      <td>0385504209</td>\n",
       "      <td>The Da Vinci Code</td>\n",
       "      <td>Dan Brown</td>\n",
       "      <td>2003</td>\n",
       "      <td>Doubleday</td>\n",
       "    </tr>\n",
       "    <tr>\n",
       "      <th>215952</th>\n",
       "      <td>0971880107</td>\n",
       "      <td>Wild Animus</td>\n",
       "      <td>Rich Shapero</td>\n",
       "      <td>2004</td>\n",
       "      <td>Too Far</td>\n",
       "    </tr>\n",
       "  </tbody>\n",
       "</table>\n",
       "</div>"
      ],
      "text/plain": [
       "              ISBN                                       Book-Title  \\\n",
       "7344    0060928336  Divine Secrets of the Ya-Ya Sisterhood: A Novel   \n",
       "32370   0312195516              The Red Tent (Bestselling Backlist)   \n",
       "38570   0316666343                        The Lovely Bones: A Novel   \n",
       "70798   0385504209                                The Da Vinci Code   \n",
       "215952  0971880107                                      Wild Animus   \n",
       "\n",
       "          Book-Author Year-Of-Publication      Publisher  \n",
       "7344    Rebecca Wells                1997      Perennial  \n",
       "32370   Anita Diamant                1998    Picador USA  \n",
       "38570    Alice Sebold                2002  Little, Brown  \n",
       "70798       Dan Brown                2003      Doubleday  \n",
       "215952   Rich Shapero                2004        Too Far  "
      ]
     },
     "execution_count": 22,
     "metadata": {},
     "output_type": "execute_result"
    }
   ],
   "source": [
    "books[books['ISBN'].isin([i[0] for i in in_degree[0:5]])]"
   ]
  },
  {
   "cell_type": "markdown",
   "id": "d911deb0-d0ea-4e10-aa66-dd581b2f7c8e",
   "metadata": {},
   "source": [
    "## Part 2: Pyvis Visualization"
   ]
  },
  {
   "cell_type": "markdown",
   "id": "72fcfe06-7aa6-427e-937b-b3366d5c28e0",
   "metadata": {},
   "source": [
    "### Attributes for visualization\n",
    "\n",
    "Attributes in nodes can be used to show important information in the visualization of our graph. In *pyvis* attributes with specific names are used to customize the visualization of the graph,so, let's create attributes for the visualization"
   ]
  },
  {
   "cell_type": "markdown",
   "id": "c7b8aad3-9f98-4c61-83b5-cee7e53cf326",
   "metadata": {},
   "source": [
    "**Node attributes**"
   ]
  },
  {
   "cell_type": "code",
   "execution_count": 23,
   "id": "e2552487-c579-4ec1-99b6-48d9dcbbcdc2",
   "metadata": {},
   "outputs": [],
   "source": [
    "country_attributes = nx.get_node_attributes(G, 'Country')\n",
    "node_colors={(key): ('gray' if country_attributes.get(key) is not None else 'brown') for key in G.nodes()}\n",
    "nx.set_node_attributes(G,node_colors, \"color\")"
   ]
  },
  {
   "cell_type": "code",
   "execution_count": 38,
   "id": "e43f57e3-a702-4987-8bd7-45c274ffd18b",
   "metadata": {},
   "outputs": [
    {
     "data": {
      "text/plain": [
       "0.8973438621679828"
      ]
     },
     "execution_count": 38,
     "metadata": {},
     "output_type": "execute_result"
    }
   ],
   "source": [
    "1*10000/11144"
   ]
  },
  {
   "cell_type": "code",
   "execution_count": 39,
   "id": "222981a1-c95b-494e-b00f-f003c6944c12",
   "metadata": {},
   "outputs": [],
   "source": [
    "node_size={(key): (round(item*10000/11144,2) if item!=0 else 0.8) for key,item in out_degree}\n",
    "nx.set_node_attributes(G,node_size, \"size\")"
   ]
  },
  {
   "cell_type": "code",
   "execution_count": null,
   "id": "173310f0-e6bc-40e7-97f8-cc8d5070d946",
   "metadata": {},
   "outputs": [],
   "source": [
    "title_attributes"
   ]
  },
  {
   "cell_type": "markdown",
   "id": "c5011cf5-9165-4174-a0fa-df11ac8d4153",
   "metadata": {},
   "source": [
    "**Edges attributes**"
   ]
  },
  {
   "cell_type": "code",
   "execution_count": 25,
   "id": "5622be16-ea3f-42a6-b25c-f85b5307ac42",
   "metadata": {},
   "outputs": [],
   "source": [
    "edge_color_map={10:'red',9:'red',8:'orange',7:'orange',6:'yellow',5:'yellow',4:'green',3:'green',2:'blue',1:'red',0:'gray'}\n",
    "ratings['color']=ratings['Book-Rating'].map(edge_color_map)"
   ]
  },
  {
   "cell_type": "code",
   "execution_count": null,
   "id": "2299cf65-6999-4c67-8802-c33875ca4c83",
   "metadata": {},
   "outputs": [],
   "source": []
  },
  {
   "cell_type": "code",
   "execution_count": null,
   "id": "5ed73856-705c-486d-bffe-4d4bd0b0c087",
   "metadata": {},
   "outputs": [],
   "source": [
    "{(row['User-ID'],row['ISBN']): {row['color']} for row in ratings.iterow()}"
   ]
  },
  {
   "cell_type": "code",
   "execution_count": null,
   "id": "68e0940b-8ca7-4edc-a649-530b706c3d33",
   "metadata": {},
   "outputs": [],
   "source": [
    "edge_colors=dict(zip(tuple(zip(ratings['User-ID'],ratings['ISBN'])),ratings['color']))\n",
    "nx.set_edge_attributes(G, edge_colors,name='color')"
   ]
  },
  {
   "cell_type": "markdown",
   "id": "056024f2-f7c6-4a4d-8f9d-43fbe9b2b976",
   "metadata": {},
   "source": [
    "**For purposes of visualization We are going to plot just small samples of the complete network**"
   ]
  },
  {
   "cell_type": "code",
   "execution_count": 48,
   "id": "69a1ea6f-2181-4bab-8c66-f05e7894ce50",
   "metadata": {},
   "outputs": [],
   "source": [
    "components=sorted(nx.connected_components(H), key=len, reverse=True)\n",
    "g=nx.subgraph(G,components[1]) ##a subgraph could be a connected component"
   ]
  },
  {
   "cell_type": "code",
   "execution_count": 49,
   "id": "efb5149e-f02b-4abd-b07a-6fcf1d7c8aac",
   "metadata": {},
   "outputs": [],
   "source": [
    "nodes = list(H.nodes()) \n",
    "num_nodes_to_sample = 1000 # Example: select 100 random nodes\n",
    "random_nodes = random.sample(nodes, num_nodes_to_sample)\n",
    "h=nx.subgraph(G,random_nodes) #random subgraph"
   ]
  },
  {
   "cell_type": "code",
   "execution_count": 41,
   "id": "0dfca8fc-eb18-43d0-bca4-ec468aa43691",
   "metadata": {},
   "outputs": [
    {
     "data": {
      "text/plain": [
       "NodeDataView({'0704349647': {'Book-Title': 'DIRTY PLANET', 'color': 'brown', 'size': 0.8}, '0679023755': {'Book-Title': \"Hiking a Celebration of the Sport and the World's Best Places to Enjoy It (Fodor's sports)\", 'color': 'brown', 'size': 0.8}, '115558': {'Country': ' usa', 'color': 'gray', 'size': 0.9}, '0394505557': {'Book-Title': 'Space', 'color': 'brown', 'size': 0.8}, '225315072X': {'Book-Title': \"Les chenes d'or\", 'color': 'brown', 'size': 0.8}, '247830': {'Country': ' usa', 'color': 'gray', 'size': 0.9}, '0520047605': {'Book-Title': 'Kino-Eye: The Writings of Dziga Vertov', 'color': 'brown', 'size': 0.8}, '0961551410': {'Book-Title': 'The best places to kiss in the northwest: A romantic travel guide', 'color': 'brown', 'size': 0.8}, '0394419081': {'Book-Title': 'Designing Your Face', 'color': 'brown', 'size': 0.8}, '57072': {'Country': ' usa', 'color': 'gray', 'size': 29.61}, '0312195168': {'Book-Title': 'Night Talk : A Novel', 'color': 'brown', 'size': 0.8}, '132180': {'Country': ' usa', 'color': 'gray', 'size': 0.9}, '166481': {'Country': ' canada', 'color': 'gray', 'size': 2.69}, '0200001590': {'Book-Title': \"November's Wheel\", 'color': 'brown', 'size': 0.8}, '0192760807': {'Book-Title': 'The Oxford Book of Christmas Poems', 'color': 'brown', 'size': 0.8}, '125293': {'Country': ' usa', 'color': 'gray', 'size': 0.9}, '0736910247': {'Book-Title': 'Cat Tales: Snippets on Life from Our Favorite Felines', 'color': 'brown', 'size': 0.8}, '0802713769': {'Book-Title': 'Journeys Through ADDulthood', 'color': 'brown', 'size': 0.8}, '0440178991': {'Book-Title': 'Silver Love (Candlelight Supreme No 164)', 'color': 'brown', 'size': 0.8}, '0785265872': {'Book-Title': \"Created To Be God's Friend &lt;i>how God Shapes Those He Loves&lt;/i>\", 'color': 'brown', 'size': 0.8}, '17283': {'Country': ' united kingdom', 'color': 'gray', 'size': 0.9}, '0307155781': {'Book-Title': 'Best Mother Goose Ever! (Giant Golden Book)', 'color': 'brown', 'size': 0.8}, '1843530457': {'Book-Title': 'First Time Europe a Rough Guide Special (Rough Guide First Time Europe)', 'color': 'brown', 'size': 0.8}, '037324603X': {'Book-Title': 'Priceless (Silhouette Special Edition, 1603)', 'color': 'brown', 'size': 0.8}, '006050675X': {'Book-Title': 'The Emerald Cavern (Graham, Mitchell. Fifth Ring, Bk. 2.)', 'color': 'brown', 'size': 0.8}, '0786015233': {'Book-Title': 'The Jasmine Trade', 'color': 'brown', 'size': 0.8}, '110769': {'Country': ' united states', 'color': 'gray', 'size': 0.9}, '0768345197': {'Book-Title': 'The Lord of the Rings 2001-2002 Student Planner Calendar: The Fellowship of the Ring', 'color': 'brown', 'size': 0.8}, '0515090506': {'Book-Title': 'The Cat Who Played Brahms', 'color': 'brown', 'size': 0.8}, '140430': {'Country': ' united kingdom', 'color': 'gray', 'size': 0.9}, '0312285450': {'Book-Title': 'Writing Out the Storm: Reading and Writing Your Way Through Serious Illness or Injury', 'color': 'brown', 'size': 0.8}, '173677': {'Country': ' usa', 'color': 'gray', 'size': 0.9}, '0205135048': {'Book-Title': 'Writing the Modern Research Paper', 'color': 'brown', 'size': 0.8}, '0689714416': {'Book-Title': 'Mushroom in the Rain', 'color': 'brown', 'size': 0.8}, '68548': {'Country': ' usa', 'color': 'gray', 'size': 0.9}, '3518046403': {'Book-Title': 'Das Schwanenhaus: Roman', 'color': 'brown', 'size': 0.8}, '0505525577': {'Book-Title': 'Master of Ecstasy', 'color': 'brown', 'size': 0.8}, '0803706715': {'Book-Title': 'The Adventures of Taxi Dog', 'color': 'brown', 'size': 0.8}, '182215': {'Country': ' united kingdom', 'color': 'gray', 'size': 0.9}, '1885156154': {'Book-Title': 'Easy traditional quilting', 'color': 'brown', 'size': 0.8}, '0671000527': {'Book-Title': 'The SECRET OF CANDLELIGHT INN NANCY DREW 139', 'color': 'brown', 'size': 0.8}, '47628': {'Country': ' argentina', 'color': 'gray', 'size': 0.9}, '1879194252': {'Book-Title': 'The Boys of Swithins Hall', 'color': 'brown', 'size': 0.8}, '148350': {'Country': ' usa', 'color': 'gray', 'size': 0.9}, '0192832832': {'Book-Title': \"The Wild Irish Girl: A National Tale (Oxford World's Classics)\", 'color': 'brown', 'size': 0.8}, '0872168158': {'Book-Title': 'Blood Red Rose', 'color': 'brown', 'size': 0.8}, '201058': {'Country': ' usa', 'color': 'gray', 'size': 54.74}, '0684870770': {'Book-Title': 'Win the Weight Game : Successful Strategies for Living Well', 'color': 'brown', 'size': 0.8}, '0451126661': {'Book-Title': 'The Dead Zone', 'color': 'brown', 'size': 0.8}, '0440068150': {'Book-Title': 'Paris One: A novel', 'color': 'brown', 'size': 0.8}, '0618342044': {'Book-Title': 'Zoo School', 'color': 'brown', 'size': 0.8}, '1583222618': {'Book-Title': 'The Case of Doctor Sachs: A Novel', 'color': 'brown', 'size': 0.8}, '248530': {'Country': ' france', 'color': 'gray', 'size': 0.9}, '006109627X': {'Book-Title': \"Eat More, Weigh Less: Dr. Dean Ornish's Life Choice Program for Losing Weight Safely While Eating Abundantly\", 'color': 'brown', 'size': 0.8}, '0312957793': {'Book-Title': 'Casting in Dead Water', 'color': 'brown', 'size': 0.8}, '1569872406': {'Book-Title': 'Twelve Days of Christmas (Classic Holiday Collection)', 'color': 'brown', 'size': 0.8}, '0821745727': {'Book-Title': 'The Secret Scribbler (Zebra Regency Romance)', 'color': 'brown', 'size': 0.8}, '0373271786': {'Book-Title': 'Hard To Handle (Charmed And Dangerous) (Silhouette Intimate Moments, No. 1108)', 'color': 'brown', 'size': 0.8}, '0875424953': {'Book-Title': 'Goddess Sekhmet: Psychospiritual Exercises of the Fifth Way', 'color': 'brown', 'size': 0.8}, '0793165202': {'Book-Title': 'Balancing Acts', 'color': 'brown', 'size': 0.8}, '0393049744': {'Book-Title': 'The Victorians', 'color': 'brown', 'size': 0.8}, '277801': {'Country': ' usa', 'color': 'gray', 'size': 0.9}, '22339': {'Country': ' canada', 'color': 'gray', 'size': 0.9}, '0786010371': {'Book-Title': 'No Safe Place (Pinnacle True Crime)', 'color': 'brown', 'size': 0.8}, '0553273906': {'Book-Title': 'Vixen 03', 'color': 'brown', 'size': 0.8}, '0449909476': {'Book-Title': 'As Max Saw It', 'color': 'brown', 'size': 0.8}, '0060187271': {'Book-Title': 'The Last Report on the Miracles at Little No Horse', 'color': 'brown', 'size': 0.8}, '1561707015': {'Book-Title': 'Gardening the Soul (New Dimensions)', 'color': 'brown', 'size': 0.8}, '0745153658': {'Book-Title': \"Miss Smilla's Feeling for Snow\", 'color': 'brown', 'size': 0.8}, '0060170832': {'Book-Title': 'The Things That Matter Most', 'color': 'brown', 'size': 0.8}, '0061040355': {'Book-Title': 'Eagle Knight', 'color': 'brown', 'size': 0.8}, '3923880642': {'Book-Title': 'Dog Owners Guide to American and English Cocker Spaniels: Everything You Need to Know About Your Spaniel, Including Health Care, Training, Breeding A', 'color': 'brown', 'size': 0.8}, '53256': {'Country': ' usa', 'color': 'gray', 'size': 51.15}, '0441813100': {'Book-Title': 'Tnt', 'color': 'brown', 'size': 0.8}, '0800753569': {'Book-Title': \"Joan 'N' the Whale\", 'color': 'brown', 'size': 0.8}, '0671533819': {'Book-Title': 'Mockingbird', 'color': 'brown', 'size': 0.8}, '0445200227': {'Book-Title': 'The Retreat', 'color': 'brown', 'size': 0.8}, '074323782X': {'Book-Title': \"Life's Greatest Lessons: 20 Things That Matter\", 'color': 'brown', 'size': 0.8}, '249474': {'Country': ' usa', 'color': 'gray', 'size': 0.9}, '0670896365': {'Book-Title': 'Undercurrents', 'color': 'brown', 'size': 0.8}, '0842346538': {'Book-Title': 'Yes', 'color': 'brown', 'size': 0.8}, '0553564811': {'Book-Title': 'Careless Whispers (Sweet Dreams, No 216)', 'color': 'brown', 'size': 0.8}, '067976805X': {'Book-Title': \"Let 'Em Eat Cake: A Novel\", 'color': 'brown', 'size': 0.8}, '43255': {'Country': ' germany', 'color': 'gray', 'size': 2.69}, '0671527231': {'Book-Title': 'LADY OF THE GUN : LADY OF THE GUN', 'color': 'brown', 'size': 0.8}, '0800753771': {'Book-Title': \"Emotional Phases of a Woman's Life\", 'color': 'brown', 'size': 0.8}, '37953': {'Country': ' usa', 'color': 'gray', 'size': 0.9}, '055326737X': {'Book-Title': \"Bishop's Gambit, Declined\", 'color': 'brown', 'size': 0.8}, '0465001874': {'Book-Title': 'Out of America: A Black Man Confronts Africa', 'color': 'brown', 'size': 0.8}, '267030': {'Country': ' netherlands', 'color': 'gray', 'size': 0.9}, '35142': {'Country': ' usa', 'color': 'gray', 'size': 2.69}, '0394757882': {'Book-Title': 'The Plays of Oscar Wilde', 'color': 'brown', 'size': 0.8}, '1570670269': {'Book-Title': 'The Natural Lunchbox: Vegetarian Meals for School, Work &amp; Home', 'color': 'brown', 'size': 0.8}, '0316102334': {'Book-Title': 'Family Outing', 'color': 'brown', 'size': 0.8}, '0486283534': {'Book-Title': \"The Adventures of Johnny Chuck (Dover Children's Thrift Classics)\", 'color': 'brown', 'size': 0.8}, '0425028615': {'Book-Title': 'The Godmakers', 'color': 'brown', 'size': 0.8}, '157664': {'Country': ' usa', 'color': 'gray', 'size': 0.9}, '0440975344': {'Book-Title': 'Rumble Fish (Laurel-Leaf Contemporary Fiction)', 'color': 'brown', 'size': 0.8}, '0822010933': {'Book-Title': \"Machiavelli's The Prince (Cliffs Notes)\", 'color': 'brown', 'size': 0.8}, '68498': {'Country': ' germany', 'color': 'gray', 'size': 21.54}})"
      ]
     },
     "execution_count": 41,
     "metadata": {},
     "output_type": "execute_result"
    }
   ],
   "source": [
    "h.nodes(data=True)"
   ]
  },
  {
   "cell_type": "markdown",
   "id": "085e1ec1-9f86-44f5-b7da-51bb859e880e",
   "metadata": {},
   "source": [
    "**Function to create pyvis graph**"
   ]
  },
  {
   "cell_type": "code",
   "execution_count": 50,
   "id": "3c95dd43-0841-4b7b-a693-1231c7631f9e",
   "metadata": {},
   "outputs": [
    {
     "name": "stdout",
     "output_type": "stream",
     "text": [
      "Warning: When  cdn_resources is 'local' jupyter notebook has issues displaying graphics on chrome/safari. Use cdn_resources='in_line' or cdn_resources='remote' if you have issues viewing graphics in a notebook.\n",
      "nx.html\n"
     ]
    },
    {
     "data": {
      "text/html": [
       "\n",
       "        <iframe\n",
       "            width=\"100%\"\n",
       "            height=\"500px\"\n",
       "            src=\"nx.html\"\n",
       "            frameborder=\"0\"\n",
       "            allowfullscreen\n",
       "            \n",
       "        ></iframe>\n",
       "        "
      ],
      "text/plain": [
       "<IPython.lib.display.IFrame at 0x7f520626a2c0>"
      ]
     },
     "execution_count": 50,
     "metadata": {},
     "output_type": "execute_result"
    }
   ],
   "source": [
    "my_network = Network(height='500px',directed=True,notebook=True)\n",
    "my_network.from_nx(g)\n",
    "my_network.show('nx.html')"
   ]
  },
  {
   "cell_type": "code",
   "execution_count": null,
   "id": "345c74d7-b621-4cfa-b463-f892eea504f6",
   "metadata": {},
   "outputs": [],
   "source": []
  },
  {
   "cell_type": "code",
   "execution_count": null,
   "id": "111e0d02-6454-43f8-8085-c832a10e5843",
   "metadata": {},
   "outputs": [],
   "source": []
  },
  {
   "cell_type": "code",
   "execution_count": null,
   "id": "db0eebe7-405d-4d8d-a02a-70c5fbe8a571",
   "metadata": {},
   "outputs": [],
   "source": []
  },
  {
   "cell_type": "code",
   "execution_count": null,
   "id": "b44dd44c-5a28-44c7-b3d1-e4d07295aa16",
   "metadata": {},
   "outputs": [],
   "source": []
  },
  {
   "cell_type": "code",
   "execution_count": null,
   "id": "0bc23a72-5849-4b7c-83e7-7e69bbf435a3",
   "metadata": {},
   "outputs": [],
   "source": []
  },
  {
   "cell_type": "code",
   "execution_count": null,
   "id": "ced85df1-b0c4-4b8e-98f7-fae7df3e7ff8",
   "metadata": {},
   "outputs": [],
   "source": []
  },
  {
   "cell_type": "code",
   "execution_count": null,
   "id": "95299247-a288-4f97-bd10-1f13c4f28fce",
   "metadata": {},
   "outputs": [],
   "source": []
  },
  {
   "cell_type": "code",
   "execution_count": null,
   "id": "c69b8e38-fba0-4e75-8ac1-58e77186714f",
   "metadata": {},
   "outputs": [],
   "source": []
  },
  {
   "cell_type": "code",
   "execution_count": null,
   "id": "3a08c078-6c84-4c25-84a9-5892abf43722",
   "metadata": {},
   "outputs": [],
   "source": []
  }
 ],
 "metadata": {
  "kernelspec": {
   "display_name": "Python 3 (ipykernel)",
   "language": "python",
   "name": "python3"
  },
  "language_info": {
   "codemirror_mode": {
    "name": "ipython",
    "version": 3
   },
   "file_extension": ".py",
   "mimetype": "text/x-python",
   "name": "python",
   "nbconvert_exporter": "python",
   "pygments_lexer": "ipython3",
   "version": "3.10.4"
  }
 },
 "nbformat": 4,
 "nbformat_minor": 5
}
